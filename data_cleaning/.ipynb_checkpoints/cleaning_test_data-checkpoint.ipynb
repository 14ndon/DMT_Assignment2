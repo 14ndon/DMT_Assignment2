{
 "cells": [
  {
   "cell_type": "code",
   "execution_count": 1,
   "id": "e3fa9951-4187-40f7-afc6-be82cee25a58",
   "metadata": {},
   "outputs": [],
   "source": [
    "# Import required libraries\n",
    "import pandas as pd\n",
    "import numpy as np\n",
    "import warnings\n",
    "\n",
    "# Configure visualizations\n",
    "warnings.filterwarnings('ignore')"
   ]
  },
  {
   "cell_type": "code",
   "execution_count": 2,
   "id": "3fe8bf91-746d-4fb8-a38c-fbb38484bf75",
   "metadata": {},
   "outputs": [],
   "source": [
    "# loading data\n",
    "df = pd.read_csv('../data/test_set_VU_DM.csv')\n",
    "df['date_time'] = pd.to_datetime(df['date_time'])\n",
    "df.head()\n",
    "df_original = df.copy()"
   ]
  },
  {
   "cell_type": "markdown",
   "id": "68e2909e-a324-4a8c-849a-8523b96317bb",
   "metadata": {},
   "source": [
    "## Impute missing data"
   ]
  },
  {
   "cell_type": "code",
   "execution_count": 3,
   "id": "c602eba6-a07f-42d9-8cca-849fce003f9b",
   "metadata": {},
   "outputs": [
    {
     "name": "stdout",
     "output_type": "stream",
     "text": [
      "visitor_hist_starrating      4705752\n",
      "visitor_hist_adr_usd         4704559\n",
      "prop_review_score               7266\n",
      "prop_location_score2         1088032\n",
      "srch_query_affinity_score    4641025\n",
      "orig_destination_distance    1608679\n",
      "comp1_rate                   4843307\n",
      "comp1_inv                    4834309\n",
      "comp1_rate_percent_diff      4868715\n",
      "comp2_rate                   2943222\n",
      "comp2_inv                    2837914\n",
      "comp2_rate_percent_diff      4405574\n",
      "comp3_rate                   3434198\n",
      "comp3_inv                    3317952\n",
      "comp3_rate_percent_diff      4487973\n",
      "comp4_rate                   4646462\n",
      "comp4_inv                    4610375\n",
      "comp4_rate_percent_diff      4826056\n",
      "comp5_rate                   2737262\n",
      "comp5_inv                    2598370\n",
      "comp5_rate_percent_diff      4119276\n",
      "comp6_rate                   4716853\n",
      "comp6_inv                    4696014\n",
      "comp6_rate_percent_diff      4862045\n",
      "comp7_rate                   4643454\n",
      "comp7_inv                    4602430\n",
      "comp7_rate_percent_diff      4819860\n",
      "comp8_rate                   3056794\n",
      "comp8_inv                    2986298\n",
      "comp8_rate_percent_diff      4348206\n",
      "dtype: int64\n"
     ]
    }
   ],
   "source": [
    "# Check for missing data in the entire dataframe\n",
    "missing_data = df.isnull().sum()\n",
    "missing_data = missing_data[missing_data > 0]\n",
    "print(missing_data)"
   ]
  },
  {
   "cell_type": "code",
   "execution_count": 4,
   "id": "aad871a7-9590-4083-b83e-c06ed4396933",
   "metadata": {},
   "outputs": [],
   "source": [
    "# 1. Set all missing competitor fields to 0\n",
    "comp_cols = [col for col in df.columns if col.startswith('comp')]\n",
    "df[comp_cols] = df[comp_cols].fillna(0)\n",
    "\n",
    "# 2. Impute 'orig_destination_distance' and 'prop_review_score' with their median\n",
    "for col in ['orig_destination_distance', 'prop_review_score']:\n",
    "    median_val = df[col].median()\n",
    "    df[col] = df[col].fillna(median_val)\n",
    "\n",
    "# 3. Impute 'srch_query_affinity_score' with the minimum value\n",
    "df['srch_query_affinity_score'] = df['srch_query_affinity_score'].fillna(df['srch_query_affinity_score'].min())\n",
    "\n",
    "# 4. Impute 'prop_location_score2' with the minimum per 'srch_destination_id'\n",
    "df['prop_location_score2'] = df.groupby('srch_destination_id')['prop_location_score2'].transform(\n",
    "    lambda x: x.fillna(x.min())\n",
    ")\n",
    "df['prop_location_score2'] = df['prop_location_score2'].fillna(df['prop_location_score2'].median())\n",
    "\n",
    "\n",
    "# 5. Impute visitor historical features with mean\n",
    "visitor_hist_cols = ['visitor_hist_starrating', 'visitor_hist_adr_usd']\n",
    "for col in visitor_hist_cols:\n",
    "    mean_val = df[col].mean()\n",
    "    df[col] = df[col].fillna(mean_val)\n",
    "\n",
    "# 6. Normalize 'price_usd' and 'prop_starrating' based on search and property groups\n",
    "\n",
    "# Normalize 'price_usd' by 'srch_id'\n",
    "df['price_usd_norm'] = df['price_usd'] / df.groupby('srch_id')['price_usd'].transform('mean')\n",
    "\n",
    "# Normalize 'prop_starrating' by 'prop_id'\n",
    "df['prop_starrating_norm'] = df['prop_starrating'] / df.groupby('prop_id')['prop_starrating'].transform('mean')\n",
    "df['prop_starrating_norm'] = df['prop_starrating_norm'].fillna(0)\n",
    "\n",
    "# 7. Drop the original 'price_usd' feature\n",
    "df = df.drop(columns=['price_usd'])"
   ]
  },
  {
   "cell_type": "code",
   "execution_count": 5,
   "id": "467bb8d2-c17e-431a-a7d8-60c1476dc9ce",
   "metadata": {},
   "outputs": [
    {
     "name": "stdout",
     "output_type": "stream",
     "text": [
      "Series([], dtype: int64)\n"
     ]
    }
   ],
   "source": [
    "missing_data = df.isnull().sum()\n",
    "missing_data = missing_data[missing_data > 0]\n",
    "print(missing_data)"
   ]
  },
  {
   "cell_type": "code",
   "execution_count": 7,
   "id": "c3787cbd-ffbc-4ea7-b24c-0240290472f6",
   "metadata": {},
   "outputs": [],
   "source": [
    "df.to_csv('../data/clean_test.csv', index=False) "
   ]
  }
 ],
 "metadata": {
  "kernelspec": {
   "display_name": "Python 3 (ipykernel)",
   "language": "python",
   "name": "python3"
  },
  "language_info": {
   "codemirror_mode": {
    "name": "ipython",
    "version": 3
   },
   "file_extension": ".py",
   "mimetype": "text/x-python",
   "name": "python",
   "nbconvert_exporter": "python",
   "pygments_lexer": "ipython3",
   "version": "3.12.7"
  }
 },
 "nbformat": 4,
 "nbformat_minor": 5
}
